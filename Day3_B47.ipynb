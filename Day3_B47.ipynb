{
 "cells": [
  {
   "cell_type": "code",
   "execution_count": 7,
   "id": "cd88ab23",
   "metadata": {},
   "outputs": [
    {
     "name": "stdout",
     "output_type": "stream",
     "text": [
      "ram\n"
     ]
    }
   ],
   "source": [
    "# type of Datatype\n",
    "name = \"ram\"\n",
    "print(name)"
   ]
  },
  {
   "cell_type": "code",
   "execution_count": 2,
   "id": "63f7cf1d",
   "metadata": {},
   "outputs": [
    {
     "data": {
      "text/plain": [
       "str"
      ]
     },
     "execution_count": 2,
     "metadata": {},
     "output_type": "execute_result"
    }
   ],
   "source": [
    "type(name)"
   ]
  },
  {
   "cell_type": "code",
   "execution_count": 3,
   "id": "a236535a",
   "metadata": {},
   "outputs": [],
   "source": [
    "number = 10\n"
   ]
  },
  {
   "cell_type": "code",
   "execution_count": 4,
   "id": "19d9b988",
   "metadata": {},
   "outputs": [
    {
     "data": {
      "text/plain": [
       "int"
      ]
     },
     "execution_count": 4,
     "metadata": {},
     "output_type": "execute_result"
    }
   ],
   "source": [
    "type(number)"
   ]
  },
  {
   "cell_type": "code",
   "execution_count": 5,
   "id": "35a12c25",
   "metadata": {},
   "outputs": [],
   "source": [
    "decimal = 10.8\n"
   ]
  },
  {
   "cell_type": "code",
   "execution_count": 6,
   "id": "ca1f0743",
   "metadata": {},
   "outputs": [
    {
     "data": {
      "text/plain": [
       "float"
      ]
     },
     "execution_count": 6,
     "metadata": {},
     "output_type": "execute_result"
    }
   ],
   "source": [
    "type(decimal)"
   ]
  },
  {
   "cell_type": "code",
   "execution_count": 8,
   "id": "6df89648",
   "metadata": {},
   "outputs": [],
   "source": [
    "name = 'mahesh babu'"
   ]
  },
  {
   "cell_type": "code",
   "execution_count": 9,
   "id": "a911f2b2",
   "metadata": {},
   "outputs": [
    {
     "name": "stdout",
     "output_type": "stream",
     "text": [
      "mahesh babu\n"
     ]
    }
   ],
   "source": [
    "print(name)"
   ]
  },
  {
   "cell_type": "code",
   "execution_count": 10,
   "id": "c4aac90f",
   "metadata": {},
   "outputs": [
    {
     "name": "stdout",
     "output_type": "stream",
     "text": [
      "Mahesh Babu\n"
     ]
    }
   ],
   "source": [
    "# correcting the format\n",
    "print(name.title())"
   ]
  },
  {
   "cell_type": "code",
   "execution_count": 11,
   "id": "326d7914",
   "metadata": {},
   "outputs": [
    {
     "name": "stdout",
     "output_type": "stream",
     "text": [
      "MAHESH BABU\n"
     ]
    }
   ],
   "source": [
    "# All capitals\n",
    "print(name.upper())"
   ]
  },
  {
   "cell_type": "code",
   "execution_count": 12,
   "id": "8e53a394",
   "metadata": {},
   "outputs": [
    {
     "name": "stdout",
     "output_type": "stream",
     "text": [
      "mahesh babu\n"
     ]
    }
   ],
   "source": [
    "# All small\n",
    "print(name.lower())"
   ]
  },
  {
   "cell_type": "code",
   "execution_count": 13,
   "id": "39594495",
   "metadata": {},
   "outputs": [
    {
     "ename": "NameError",
     "evalue": "name 'ravi' is not defined",
     "output_type": "error",
     "traceback": [
      "\u001b[1;31m---------------------------------------------------------------------------\u001b[0m",
      "\u001b[1;31mNameError\u001b[0m                                 Traceback (most recent call last)",
      "\u001b[1;32m<ipython-input-13-c0dadf9c0e59>\u001b[0m in \u001b[0;36m<module>\u001b[1;34m\u001b[0m\n\u001b[0;32m      1\u001b[0m \u001b[1;31m# f string\u001b[0m\u001b[1;33m\u001b[0m\u001b[1;33m\u001b[0m\u001b[1;33m\u001b[0m\u001b[0m\n\u001b[0;32m      2\u001b[0m \u001b[1;33m\u001b[0m\u001b[0m\n\u001b[1;32m----> 3\u001b[1;33m \u001b[0mfirst_name\u001b[0m \u001b[1;33m=\u001b[0m \u001b[0mravi\u001b[0m\u001b[1;33m\u001b[0m\u001b[1;33m\u001b[0m\u001b[0m\n\u001b[0m\u001b[0;32m      4\u001b[0m \u001b[0mlast_name\u001b[0m \u001b[1;33m=\u001b[0m \u001b[0mkumar\u001b[0m\u001b[1;33m\u001b[0m\u001b[1;33m\u001b[0m\u001b[0m\n",
      "\u001b[1;31mNameError\u001b[0m: name 'ravi' is not defined"
     ]
    }
   ],
   "source": [
    "# f string \n",
    "\n",
    "first_name = ravi\n",
    "last_name = kumar\n"
   ]
  },
  {
   "cell_type": "code",
   "execution_count": 14,
   "id": "6f7d5dd1",
   "metadata": {},
   "outputs": [],
   "source": [
    "# f string \n",
    "\n",
    "first_name = 'ravi'\n",
    "last_name = 'kumar'\n"
   ]
  },
  {
   "cell_type": "code",
   "execution_count": 15,
   "id": "31578585",
   "metadata": {},
   "outputs": [
    {
     "ename": "SyntaxError",
     "evalue": "invalid syntax (<ipython-input-15-48fc010d0649>, line 1)",
     "output_type": "error",
     "traceback": [
      "\u001b[1;36m  File \u001b[1;32m\"<ipython-input-15-48fc010d0649>\"\u001b[1;36m, line \u001b[1;32m1\u001b[0m\n\u001b[1;33m    print(f{first_name}{last_name})\u001b[0m\n\u001b[1;37m           ^\u001b[0m\n\u001b[1;31mSyntaxError\u001b[0m\u001b[1;31m:\u001b[0m invalid syntax\n"
     ]
    }
   ],
   "source": [
    "print(f{first_name}{last_name})"
   ]
  },
  {
   "cell_type": "code",
   "execution_count": 16,
   "id": "261e9161",
   "metadata": {},
   "outputs": [
    {
     "name": "stdout",
     "output_type": "stream",
     "text": [
      "ravikumar\n"
     ]
    }
   ],
   "source": [
    "print(f'{first_name}{last_name}')"
   ]
  },
  {
   "cell_type": "code",
   "execution_count": 17,
   "id": "32283112",
   "metadata": {},
   "outputs": [
    {
     "ename": "SyntaxError",
     "evalue": "EOL while scanning string literal (<ipython-input-17-742c733a9e58>, line 1)",
     "output_type": "error",
     "traceback": [
      "\u001b[1;36m  File \u001b[1;32m\"<ipython-input-17-742c733a9e58>\"\u001b[1;36m, line \u001b[1;32m1\u001b[0m\n\u001b[1;33m    print(f\"{first_name} {last_name})\u001b[0m\n\u001b[1;37m                                     ^\u001b[0m\n\u001b[1;31mSyntaxError\u001b[0m\u001b[1;31m:\u001b[0m EOL while scanning string literal\n"
     ]
    }
   ],
   "source": [
    "print(f\"{first_name} {last_name})"
   ]
  },
  {
   "cell_type": "code",
   "execution_count": 18,
   "id": "8b73b99c",
   "metadata": {},
   "outputs": [
    {
     "name": "stdout",
     "output_type": "stream",
     "text": [
      "ravikumar\n"
     ]
    }
   ],
   "source": [
    "print(f\"{first_name}{last_name}\")"
   ]
  },
  {
   "cell_type": "code",
   "execution_count": 19,
   "id": "b20bf879",
   "metadata": {},
   "outputs": [
    {
     "name": "stdout",
     "output_type": "stream",
     "text": [
      "ravi kumar\n"
     ]
    }
   ],
   "source": [
    "print(f\"{first_name} {last_name}\")"
   ]
  },
  {
   "cell_type": "code",
   "execution_count": 20,
   "id": "358549f5",
   "metadata": {},
   "outputs": [],
   "source": [
    "full_name = f'{first_name} {last_name}'"
   ]
  },
  {
   "cell_type": "code",
   "execution_count": 21,
   "id": "b18b5374",
   "metadata": {},
   "outputs": [
    {
     "name": "stdout",
     "output_type": "stream",
     "text": [
      "ravi kumar\n"
     ]
    }
   ],
   "source": [
    "print (full_name)"
   ]
  },
  {
   "cell_type": "code",
   "execution_count": 23,
   "id": "17fb8e3b",
   "metadata": {},
   "outputs": [
    {
     "name": "stdout",
     "output_type": "stream",
     "text": [
      "Ravi Kumar\n"
     ]
    }
   ],
   "source": [
    "# title\n",
    "print(full_name.title())"
   ]
  },
  {
   "cell_type": "code",
   "execution_count": 24,
   "id": "f745d7b0",
   "metadata": {},
   "outputs": [
    {
     "name": "stdout",
     "output_type": "stream",
     "text": [
      "Good morning Ravi Kumar\n"
     ]
    }
   ],
   "source": [
    "# Using custom word\n",
    "\n",
    "print(f'Good morning {full_name.title()}')"
   ]
  },
  {
   "cell_type": "code",
   "execution_count": null,
   "id": "8b58dd18",
   "metadata": {},
   "outputs": [],
   "source": []
  },
  {
   "cell_type": "code",
   "execution_count": 25,
   "id": "22ddca9f",
   "metadata": {},
   "outputs": [
    {
     "name": "stdout",
     "output_type": "stream",
     "text": [
      "fav_prog_lang:pythonjavacc++cobaljs\n"
     ]
    }
   ],
   "source": [
    "# Adding white spaces to string\n",
    "\n",
    "print(\"fav_prog_lang:pythonjavacc++cobaljs\")"
   ]
  },
  {
   "cell_type": "code",
   "execution_count": 26,
   "id": "cb659c37",
   "metadata": {},
   "outputs": [
    {
     "name": "stdout",
     "output_type": "stream",
     "text": [
      "fav_prog_lang:\n",
      "python\n",
      "java\n",
      "c\n",
      "c++\n",
      "cobal\n",
      "js\n"
     ]
    }
   ],
   "source": [
    "print(\"fav_prog_lang:\\npython\\njava\\nc\\nc++\\ncobal\\njs\")"
   ]
  },
  {
   "cell_type": "code",
   "execution_count": 27,
   "id": "cb77b1d1",
   "metadata": {},
   "outputs": [],
   "source": [
    "#\\n: new line delimiter"
   ]
  },
  {
   "cell_type": "code",
   "execution_count": 28,
   "id": "2f4ee4f5",
   "metadata": {},
   "outputs": [],
   "source": [
    "#\\t : new tab delimiter"
   ]
  },
  {
   "cell_type": "code",
   "execution_count": 29,
   "id": "19b7b305",
   "metadata": {},
   "outputs": [
    {
     "name": "stdout",
     "output_type": "stream",
     "text": [
      "fav_prog_lang:\n",
      "\tpython\n",
      "\tjava\n",
      "\tc\n",
      "\tc++\n",
      "\tcobal\n",
      "\tjs\n"
     ]
    }
   ],
   "source": [
    "print(\"fav_prog_lang:\\n\\tpython\\n\\tjava\\n\\tc\\n\\tc++\\n\\tcobal\\n\\tjs\")"
   ]
  },
  {
   "cell_type": "code",
   "execution_count": null,
   "id": "539c1f7e",
   "metadata": {},
   "outputs": [],
   "source": []
  }
 ],
 "metadata": {
  "kernelspec": {
   "display_name": "Python 3",
   "language": "python",
   "name": "python3"
  },
  "language_info": {
   "codemirror_mode": {
    "name": "ipython",
    "version": 3
   },
   "file_extension": ".py",
   "mimetype": "text/x-python",
   "name": "python",
   "nbconvert_exporter": "python",
   "pygments_lexer": "ipython3",
   "version": "3.8.8"
  }
 },
 "nbformat": 4,
 "nbformat_minor": 5
}
