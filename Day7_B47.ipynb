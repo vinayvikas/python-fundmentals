{
 "cells": [
  {
   "cell_type": "code",
   "execution_count": 1,
   "id": "60a8a7cb",
   "metadata": {},
   "outputs": [],
   "source": [
    "#Slicing of the list"
   ]
  },
  {
   "cell_type": "code",
   "execution_count": 2,
   "id": "059d718c",
   "metadata": {},
   "outputs": [],
   "source": [
    "students = ['rani','grace','naveen','ram','sita','faran','raghu']"
   ]
  },
  {
   "cell_type": "code",
   "execution_count": 3,
   "id": "040237ab",
   "metadata": {},
   "outputs": [
    {
     "name": "stdout",
     "output_type": "stream",
     "text": [
      "['rani', 'grace', 'naveen', 'ram', 'sita', 'faran', 'raghu']\n"
     ]
    }
   ],
   "source": [
    "print(students)"
   ]
  },
  {
   "cell_type": "code",
   "execution_count": 4,
   "id": "90aaa033",
   "metadata": {},
   "outputs": [
    {
     "name": "stdout",
     "output_type": "stream",
     "text": [
      "['rani']\n"
     ]
    }
   ],
   "source": [
    "print(students[0:1])"
   ]
  },
  {
   "cell_type": "code",
   "execution_count": 5,
   "id": "2eb1636c",
   "metadata": {},
   "outputs": [
    {
     "name": "stdout",
     "output_type": "stream",
     "text": [
      "['rani', 'grace']\n"
     ]
    }
   ],
   "source": [
    "print(students[0:2])"
   ]
  },
  {
   "cell_type": "code",
   "execution_count": 6,
   "id": "40a7438f",
   "metadata": {},
   "outputs": [
    {
     "name": "stdout",
     "output_type": "stream",
     "text": [
      "['grace', 'naveen']\n"
     ]
    }
   ],
   "source": [
    "print(students[1:3])"
   ]
  },
  {
   "cell_type": "code",
   "execution_count": 7,
   "id": "173da92d",
   "metadata": {},
   "outputs": [
    {
     "name": "stdout",
     "output_type": "stream",
     "text": [
      "['ram', 'sita']\n"
     ]
    }
   ],
   "source": [
    "print(students[3:5])"
   ]
  },
  {
   "cell_type": "code",
   "execution_count": 8,
   "id": "b17ac6e7",
   "metadata": {},
   "outputs": [
    {
     "name": "stdout",
     "output_type": "stream",
     "text": [
      "['faran', 'raghu']\n"
     ]
    }
   ],
   "source": [
    "print(students[5:7])"
   ]
  },
  {
   "cell_type": "code",
   "execution_count": 9,
   "id": "ac57249d",
   "metadata": {},
   "outputs": [],
   "source": [
    "#print alternate"
   ]
  },
  {
   "cell_type": "code",
   "execution_count": 10,
   "id": "b6ef5608",
   "metadata": {},
   "outputs": [
    {
     "name": "stdout",
     "output_type": "stream",
     "text": [
      "['rani', 'naveen', 'sita', 'raghu']\n"
     ]
    }
   ],
   "source": [
    "print(students[0:7:2])"
   ]
  },
  {
   "cell_type": "code",
   "execution_count": 11,
   "id": "047e0909",
   "metadata": {},
   "outputs": [],
   "source": [
    "# Range method"
   ]
  },
  {
   "cell_type": "code",
   "execution_count": 12,
   "id": "d95e63e9",
   "metadata": {},
   "outputs": [],
   "source": [
    "#req:to print list of 100"
   ]
  },
  {
   "cell_type": "code",
   "execution_count": 17,
   "id": "680653f6",
   "metadata": {},
   "outputs": [
    {
     "name": "stdout",
     "output_type": "stream",
     "text": [
      "[0, 1, 2, 3, 4, 5, 6, 7, 8, 9, 10, 11, 12, 13, 14, 15, 16, 17, 18, 19, 20, 21, 22, 23, 24, 25, 26, 27, 28, 29, 30, 31, 32, 33, 34, 35, 36, 37, 38, 39, 40, 41, 42, 43, 44, 45, 46, 47, 48, 49, 50, 51, 52, 53, 54, 55, 56, 57, 58, 59, 60, 61, 62, 63, 64, 65, 66, 67, 68, 69, 70, 71, 72, 73, 74, 75, 76, 77, 78, 79, 80, 81, 82, 83, 84, 85, 86, 87, 88, 89, 90, 91, 92, 93, 94, 95, 96, 97, 98, 99]\n"
     ]
    }
   ],
   "source": [
    "num = list(range(0,100))    \n",
    "print(num)"
   ]
  },
  {
   "cell_type": "code",
   "execution_count": 18,
   "id": "33d35d06",
   "metadata": {},
   "outputs": [],
   "source": [
    "#req print  even numbers"
   ]
  },
  {
   "cell_type": "code",
   "execution_count": 20,
   "id": "9bb463dc",
   "metadata": {},
   "outputs": [
    {
     "name": "stdout",
     "output_type": "stream",
     "text": [
      "[0, 2, 4, 6, 8, 10, 12, 14, 16, 18]\n"
     ]
    }
   ],
   "source": [
    "even_num = list(range(0,20,2))\n",
    "print(even_num)"
   ]
  },
  {
   "cell_type": "code",
   "execution_count": 21,
   "id": "b1280b55",
   "metadata": {},
   "outputs": [
    {
     "name": "stdout",
     "output_type": "stream",
     "text": [
      "[1, 3, 5, 7, 9, 11, 13, 15, 17, 19]\n"
     ]
    }
   ],
   "source": [
    "odd_num = list(range(1,20,2))\n",
    "print(odd_num)"
   ]
  },
  {
   "cell_type": "code",
   "execution_count": null,
   "id": "8c0632bf",
   "metadata": {},
   "outputs": [],
   "source": []
  }
 ],
 "metadata": {
  "kernelspec": {
   "display_name": "Python 3",
   "language": "python",
   "name": "python3"
  },
  "language_info": {
   "codemirror_mode": {
    "name": "ipython",
    "version": 3
   },
   "file_extension": ".py",
   "mimetype": "text/x-python",
   "name": "python",
   "nbconvert_exporter": "python",
   "pygments_lexer": "ipython3",
   "version": "3.8.8"
  }
 },
 "nbformat": 4,
 "nbformat_minor": 5
}
