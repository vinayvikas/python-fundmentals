{
 "cells": [
  {
   "cell_type": "code",
   "execution_count": 3,
   "id": "05b5f175",
   "metadata": {},
   "outputs": [
    {
     "name": "stdout",
     "output_type": "stream",
     "text": [
      "('safia', 'venkat', 'sirish', 'neha', 'ram')\n"
     ]
    }
   ],
   "source": [
    "students = ('safia','venkat','sirish','neha','ram')\n",
    "print(students)"
   ]
  },
  {
   "cell_type": "code",
   "execution_count": 4,
   "id": "8f3d27c5",
   "metadata": {},
   "outputs": [
    {
     "data": {
      "text/plain": [
       "tuple"
      ]
     },
     "execution_count": 4,
     "metadata": {},
     "output_type": "execute_result"
    }
   ],
   "source": [
    "type(students)"
   ]
  },
  {
   "cell_type": "code",
   "execution_count": 5,
   "id": "b9127911",
   "metadata": {},
   "outputs": [],
   "source": [
    "#Req to modify venkat ---> dilip"
   ]
  },
  {
   "cell_type": "code",
   "execution_count": 6,
   "id": "95fdebac",
   "metadata": {},
   "outputs": [
    {
     "ename": "TypeError",
     "evalue": "'tuple' object does not support item assignment",
     "output_type": "error",
     "traceback": [
      "\u001b[1;31m---------------------------------------------------------------------------\u001b[0m",
      "\u001b[1;31mTypeError\u001b[0m                                 Traceback (most recent call last)",
      "\u001b[1;32m<ipython-input-6-db8761455d0f>\u001b[0m in \u001b[0;36m<module>\u001b[1;34m\u001b[0m\n\u001b[1;32m----> 1\u001b[1;33m \u001b[0mstudents\u001b[0m\u001b[1;33m[\u001b[0m\u001b[1;36m1\u001b[0m\u001b[1;33m]\u001b[0m \u001b[1;33m=\u001b[0m \u001b[1;34m'dilip'\u001b[0m\u001b[1;33m\u001b[0m\u001b[1;33m\u001b[0m\u001b[0m\n\u001b[0m",
      "\u001b[1;31mTypeError\u001b[0m: 'tuple' object does not support item assignment"
     ]
    }
   ],
   "source": [
    "students[1] = 'dilip'"
   ]
  },
  {
   "cell_type": "code",
   "execution_count": 7,
   "id": "6b497e0c",
   "metadata": {},
   "outputs": [
    {
     "name": "stdout",
     "output_type": "stream",
     "text": [
      "(230, 20)\n"
     ]
    }
   ],
   "source": [
    "dim = (230,20)\n",
    "print(dim)"
   ]
  },
  {
   "cell_type": "code",
   "execution_count": 8,
   "id": "7c4493d0",
   "metadata": {},
   "outputs": [
    {
     "ename": "TypeError",
     "evalue": "'tuple' object does not support item assignment",
     "output_type": "error",
     "traceback": [
      "\u001b[1;31m---------------------------------------------------------------------------\u001b[0m",
      "\u001b[1;31mTypeError\u001b[0m                                 Traceback (most recent call last)",
      "\u001b[1;32m<ipython-input-8-6874d16c9f40>\u001b[0m in \u001b[0;36m<module>\u001b[1;34m\u001b[0m\n\u001b[1;32m----> 1\u001b[1;33m \u001b[0mdim\u001b[0m\u001b[1;33m[\u001b[0m\u001b[1;36m0\u001b[0m\u001b[1;33m]\u001b[0m \u001b[1;33m=\u001b[0m \u001b[1;36m300\u001b[0m\u001b[1;33m\u001b[0m\u001b[1;33m\u001b[0m\u001b[0m\n\u001b[0m",
      "\u001b[1;31mTypeError\u001b[0m: 'tuple' object does not support item assignment"
     ]
    }
   ],
   "source": [
    "dim[0] = 300\n"
   ]
  },
  {
   "cell_type": "code",
   "execution_count": 10,
   "id": "84b06988",
   "metadata": {},
   "outputs": [
    {
     "name": "stdout",
     "output_type": "stream",
     "text": [
      "(300, 20)\n"
     ]
    }
   ],
   "source": [
    "dim = (300,20)\n",
    "print(dim)"
   ]
  },
  {
   "cell_type": "code",
   "execution_count": 11,
   "id": "6ce281a3",
   "metadata": {},
   "outputs": [],
   "source": [
    "# we have reconstruct from the start as it is tuple"
   ]
  },
  {
   "cell_type": "code",
   "execution_count": 12,
   "id": "c60aaacc",
   "metadata": {},
   "outputs": [
    {
     "name": "stdout",
     "output_type": "stream",
     "text": [
      "('safia', 'venkat', 'sirish', 'neha', 'ram')\n"
     ]
    }
   ],
   "source": [
    "print(students)"
   ]
  },
  {
   "cell_type": "code",
   "execution_count": 13,
   "id": "1c21e71e",
   "metadata": {},
   "outputs": [],
   "source": [
    "# req to print sirish"
   ]
  },
  {
   "cell_type": "code",
   "execution_count": 14,
   "id": "d93273f3",
   "metadata": {},
   "outputs": [
    {
     "name": "stdout",
     "output_type": "stream",
     "text": [
      "sirish\n"
     ]
    }
   ],
   "source": [
    "print(students[2])"
   ]
  },
  {
   "cell_type": "code",
   "execution_count": 15,
   "id": "c54ce8ca",
   "metadata": {},
   "outputs": [],
   "source": [
    "#Enhancement"
   ]
  },
  {
   "cell_type": "code",
   "execution_count": 16,
   "id": "38051f22",
   "metadata": {},
   "outputs": [
    {
     "name": "stdout",
     "output_type": "stream",
     "text": [
      "Sirish\n"
     ]
    }
   ],
   "source": [
    "print(students[2].title())"
   ]
  },
  {
   "cell_type": "code",
   "execution_count": 17,
   "id": "d0a0dcc8",
   "metadata": {},
   "outputs": [],
   "source": [
    "#for loop in tuple"
   ]
  },
  {
   "cell_type": "code",
   "execution_count": 18,
   "id": "52e92fed",
   "metadata": {},
   "outputs": [
    {
     "name": "stdout",
     "output_type": "stream",
     "text": [
      "Safia\n",
      "Venkat\n",
      "Sirish\n",
      "Neha\n",
      "Ram\n"
     ]
    }
   ],
   "source": [
    "for x in students:\n",
    "    print(x.title())"
   ]
  },
  {
   "cell_type": "code",
   "execution_count": 19,
   "id": "23cf2e66",
   "metadata": {},
   "outputs": [],
   "source": [
    "# Dictionaries"
   ]
  },
  {
   "cell_type": "code",
   "execution_count": 21,
   "id": "b7db9b1b",
   "metadata": {},
   "outputs": [],
   "source": [
    "# creating a key and value pair"
   ]
  },
  {
   "cell_type": "code",
   "execution_count": 22,
   "id": "761fd42f",
   "metadata": {},
   "outputs": [
    {
     "name": "stdout",
     "output_type": "stream",
     "text": [
      "{'username': 'codetraining', 'fs': 'code', 'ls': 'training', 'dob': '01-01-2019', 'pwd': '1234'}\n"
     ]
    }
   ],
   "source": [
    "user = {'username':'codetraining','fs':'code','ls':'training','dob':'01-01-2019','pwd':'1234'}\n",
    "print(user)"
   ]
  },
  {
   "cell_type": "code",
   "execution_count": 23,
   "id": "9fff032d",
   "metadata": {},
   "outputs": [
    {
     "data": {
      "text/plain": [
       "dict"
      ]
     },
     "execution_count": 23,
     "metadata": {},
     "output_type": "execute_result"
    }
   ],
   "source": [
    "type(user)"
   ]
  },
  {
   "cell_type": "code",
   "execution_count": 24,
   "id": "a95dba52",
   "metadata": {},
   "outputs": [],
   "source": [
    "#Accessing values from dict"
   ]
  },
  {
   "cell_type": "code",
   "execution_count": 25,
   "id": "48353707",
   "metadata": {},
   "outputs": [],
   "source": [
    "#Req username"
   ]
  },
  {
   "cell_type": "code",
   "execution_count": 27,
   "id": "edba20f4",
   "metadata": {},
   "outputs": [
    {
     "name": "stdout",
     "output_type": "stream",
     "text": [
      "codetraining\n"
     ]
    }
   ],
   "source": [
    "print(user['username'])"
   ]
  },
  {
   "cell_type": "code",
   "execution_count": 28,
   "id": "eea637c6",
   "metadata": {},
   "outputs": [
    {
     "name": "stdout",
     "output_type": "stream",
     "text": [
      "01-01-2019\n"
     ]
    }
   ],
   "source": [
    "print(user['dob'])"
   ]
  },
  {
   "cell_type": "code",
   "execution_count": 29,
   "id": "d2b36f76",
   "metadata": {},
   "outputs": [],
   "source": [
    "#getting key by value"
   ]
  },
  {
   "cell_type": "code",
   "execution_count": 30,
   "id": "46084e26",
   "metadata": {},
   "outputs": [
    {
     "ename": "KeyError",
     "evalue": "'code'",
     "output_type": "error",
     "traceback": [
      "\u001b[1;31m---------------------------------------------------------------------------\u001b[0m",
      "\u001b[1;31mKeyError\u001b[0m                                  Traceback (most recent call last)",
      "\u001b[1;32m<ipython-input-30-bd3faf419c53>\u001b[0m in \u001b[0;36m<module>\u001b[1;34m\u001b[0m\n\u001b[1;32m----> 1\u001b[1;33m \u001b[0mprint\u001b[0m\u001b[1;33m(\u001b[0m\u001b[0muser\u001b[0m\u001b[1;33m[\u001b[0m\u001b[1;34m'code'\u001b[0m\u001b[1;33m]\u001b[0m\u001b[1;33m)\u001b[0m\u001b[1;33m\u001b[0m\u001b[1;33m\u001b[0m\u001b[0m\n\u001b[0m",
      "\u001b[1;31mKeyError\u001b[0m: 'code'"
     ]
    }
   ],
   "source": [
    "print(user['code'])"
   ]
  },
  {
   "cell_type": "code",
   "execution_count": 32,
   "id": "27a6d463",
   "metadata": {},
   "outputs": [],
   "source": [
    "#Not possible"
   ]
  },
  {
   "cell_type": "code",
   "execution_count": null,
   "id": "9a7dc18a",
   "metadata": {},
   "outputs": [],
   "source": []
  }
 ],
 "metadata": {
  "kernelspec": {
   "display_name": "Python 3",
   "language": "python",
   "name": "python3"
  },
  "language_info": {
   "codemirror_mode": {
    "name": "ipython",
    "version": 3
   },
   "file_extension": ".py",
   "mimetype": "text/x-python",
   "name": "python",
   "nbconvert_exporter": "python",
   "pygments_lexer": "ipython3",
   "version": "3.8.8"
  }
 },
 "nbformat": 4,
 "nbformat_minor": 5
}
