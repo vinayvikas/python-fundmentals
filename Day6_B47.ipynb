{
 "cells": [
  {
   "cell_type": "code",
   "execution_count": 1,
   "id": "ed22ef09",
   "metadata": {},
   "outputs": [],
   "source": [
    "#looping statements"
   ]
  },
  {
   "cell_type": "code",
   "execution_count": 3,
   "id": "a86f51e7",
   "metadata": {},
   "outputs": [],
   "source": [
    "students = ['rani','grace','naveen','ram','sita','faran' ]"
   ]
  },
  {
   "cell_type": "code",
   "execution_count": 4,
   "id": "e77c2429",
   "metadata": {},
   "outputs": [
    {
     "name": "stdout",
     "output_type": "stream",
     "text": [
      "['rani', 'grace', 'naveen', 'ram', 'sita', 'faran']\n"
     ]
    }
   ],
   "source": [
    "print(students)"
   ]
  },
  {
   "cell_type": "code",
   "execution_count": 5,
   "id": "5b5a362a",
   "metadata": {},
   "outputs": [
    {
     "name": "stdout",
     "output_type": "stream",
     "text": [
      "Keep up the good work,rani\n"
     ]
    }
   ],
   "source": [
    "print(f\"Keep up the good work,{students[0]}\")"
   ]
  },
  {
   "cell_type": "code",
   "execution_count": 6,
   "id": "a94868c4",
   "metadata": {},
   "outputs": [
    {
     "name": "stdout",
     "output_type": "stream",
     "text": [
      "rani\n",
      "grace\n",
      "naveen\n",
      "ram\n",
      "sita\n",
      "faran\n"
     ]
    }
   ],
   "source": [
    "for a in students:\n",
    "    print(a)"
   ]
  },
  {
   "cell_type": "code",
   "execution_count": 7,
   "id": "1a090580",
   "metadata": {},
   "outputs": [
    {
     "name": "stdout",
     "output_type": "stream",
     "text": [
      "keep up the good work, Rani\n",
      "keep up the good work, Grace\n",
      "keep up the good work, Naveen\n",
      "keep up the good work, Ram\n",
      "keep up the good work, Sita\n",
      "keep up the good work, Faran\n"
     ]
    }
   ],
   "source": [
    "for a in students:\n",
    "    print(f\"keep up the good work, {a.title()}\")"
   ]
  },
  {
   "cell_type": "code",
   "execution_count": 8,
   "id": "f739a960",
   "metadata": {},
   "outputs": [
    {
     "name": "stdout",
     "output_type": "stream",
     "text": [
      "keep up the good work, Rani\n",
      "looking forward to see the practice files, Rani\n",
      "keep up the good work, Grace\n",
      "looking forward to see the practice files, Grace\n",
      "keep up the good work, Naveen\n",
      "looking forward to see the practice files, Naveen\n",
      "keep up the good work, Ram\n",
      "looking forward to see the practice files, Ram\n",
      "keep up the good work, Sita\n",
      "looking forward to see the practice files, Sita\n",
      "keep up the good work, Faran\n",
      "looking forward to see the practice files, Faran\n"
     ]
    }
   ],
   "source": [
    "for a in students:\n",
    "    print(f\"keep up the good work, {a.title()}\")\n",
    "    print(f'looking forward to see the practice files, {a.title()}')"
   ]
  },
  {
   "cell_type": "code",
   "execution_count": 9,
   "id": "85c3917a",
   "metadata": {},
   "outputs": [
    {
     "name": "stdout",
     "output_type": "stream",
     "text": [
      "keep up the good work, Rani\n",
      "looking forward to see the practice files, Rani\n",
      "\n",
      "keep up the good work, Grace\n",
      "looking forward to see the practice files, Grace\n",
      "\n",
      "keep up the good work, Naveen\n",
      "looking forward to see the practice files, Naveen\n",
      "\n",
      "keep up the good work, Ram\n",
      "looking forward to see the practice files, Ram\n",
      "\n",
      "keep up the good work, Sita\n",
      "looking forward to see the practice files, Sita\n",
      "\n",
      "keep up the good work, Faran\n",
      "looking forward to see the practice files, Faran\n",
      "\n"
     ]
    }
   ],
   "source": [
    "for a in students:\n",
    "    print(f\"keep up the good work, {a.title()}\")\n",
    "    print(f'looking forward to see the practice files, {a.title()}\\n')"
   ]
  },
  {
   "cell_type": "code",
   "execution_count": 10,
   "id": "d5a86961",
   "metadata": {},
   "outputs": [
    {
     "name": "stdout",
     "output_type": "stream",
     "text": [
      "keep up the good work, Rani\n",
      "looking forward to see the practice files, Rani\n",
      "\n",
      "thankyou\n",
      "keep up the good work, Grace\n",
      "looking forward to see the practice files, Grace\n",
      "\n",
      "thankyou\n",
      "keep up the good work, Naveen\n",
      "looking forward to see the practice files, Naveen\n",
      "\n",
      "thankyou\n",
      "keep up the good work, Ram\n",
      "looking forward to see the practice files, Ram\n",
      "\n",
      "thankyou\n",
      "keep up the good work, Sita\n",
      "looking forward to see the practice files, Sita\n",
      "\n",
      "thankyou\n",
      "keep up the good work, Faran\n",
      "looking forward to see the practice files, Faran\n",
      "\n",
      "thankyou\n"
     ]
    }
   ],
   "source": [
    "for a in students:\n",
    "    print(f\"keep up the good work, {a.title()}\")\n",
    "    print(f'looking forward to see the practice files, {a.title()}\\n')\n",
    "    \n",
    "    print(f'thankyou')"
   ]
  },
  {
   "cell_type": "code",
   "execution_count": 13,
   "id": "8d104d2e",
   "metadata": {},
   "outputs": [
    {
     "name": "stdout",
     "output_type": "stream",
     "text": [
      "keep up the good work, Rani\n",
      "looking forward to see the practice files, Rani\n",
      "\n",
      "keep up the good work, Grace\n",
      "looking forward to see the practice files, Grace\n",
      "\n",
      "keep up the good work, Naveen\n",
      "looking forward to see the practice files, Naveen\n",
      "\n",
      "keep up the good work, Ram\n",
      "looking forward to see the practice files, Ram\n",
      "\n",
      "keep up the good work, Sita\n",
      "looking forward to see the practice files, Sita\n",
      "\n",
      "keep up the good work, Faran\n",
      "looking forward to see the practice files, Faran\n",
      "\n",
      "thankyou\n"
     ]
    }
   ],
   "source": [
    "for a in students:\n",
    "    print(f\"keep up the good work, {a.title()}\")\n",
    "    print(f'looking forward to see the practice files, {a.title()}\\n')\n",
    "print(\"thankyou\")"
   ]
  },
  {
   "cell_type": "code",
   "execution_count": null,
   "id": "5dc9b4bc",
   "metadata": {},
   "outputs": [],
   "source": []
  }
 ],
 "metadata": {
  "kernelspec": {
   "display_name": "Python 3",
   "language": "python",
   "name": "python3"
  },
  "language_info": {
   "codemirror_mode": {
    "name": "ipython",
    "version": 3
   },
   "file_extension": ".py",
   "mimetype": "text/x-python",
   "name": "python",
   "nbconvert_exporter": "python",
   "pygments_lexer": "ipython3",
   "version": "3.8.8"
  }
 },
 "nbformat": 4,
 "nbformat_minor": 5
}
